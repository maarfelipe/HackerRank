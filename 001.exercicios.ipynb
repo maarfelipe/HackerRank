{
 "cells": [
  {
   "attachments": {},
   "cell_type": "markdown",
   "metadata": {},
   "source": [
    "Dado um número inteiro n, crie uma lista de todos os números de 0 a n-1 que são múltiplos de 3."
   ]
  },
  {
   "cell_type": "code",
   "execution_count": null,
   "metadata": {},
   "outputs": [],
   "source": [
    "n = int(input('Digite um número: '))\n",
    "\n",
    "multiplos_de_tres = [num for num in range(n) if num % 3 == 0]\n",
    "print(multiplos_de_tres)\n",
    "\n",
    "'''\n",
    "multiplos_de_tres = []\n",
    "for num in range(n):\n",
    "    if num % 3 == 0:\n",
    "        multiplos_de_tres.append(num)\n",
    "'''"
   ]
  },
  {
   "attachments": {},
   "cell_type": "markdown",
   "metadata": {},
   "source": [
    "Dada uma lista de números, crie uma nova lista contendo apenas os números pares."
   ]
  },
  {
   "cell_type": "code",
   "execution_count": null,
   "metadata": {},
   "outputs": [],
   "source": [
    "numeros = list(map(int, input('Digite vários números separados por espaço: ').split()))\n",
    "\n",
    "pares = sorted(set([num for num in numeros if num % 2 == 0]))\n",
    "\n",
    "print(f'Os números pares são: {pares}')"
   ]
  }
 ],
 "metadata": {
  "kernelspec": {
   "display_name": "venv",
   "language": "python",
   "name": "python3"
  },
  "language_info": {
   "codemirror_mode": {
    "name": "ipython",
    "version": 3
   },
   "file_extension": ".py",
   "mimetype": "text/x-python",
   "name": "python",
   "nbconvert_exporter": "python",
   "pygments_lexer": "ipython3",
   "version": "3.11.2"
  },
  "orig_nbformat": 4
 },
 "nbformat": 4,
 "nbformat_minor": 2
}
